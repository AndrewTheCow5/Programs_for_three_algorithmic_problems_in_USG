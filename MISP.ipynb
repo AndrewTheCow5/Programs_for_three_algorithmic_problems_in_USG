{
 "cells": [
  {
   "cell_type": "markdown",
   "id": "06bff802",
   "metadata": {},
   "source": [
    "The Branch-Bound Algorithm:"
   ]
  },
  {
   "cell_type": "code",
   "execution_count": 73,
   "id": "5c77b24f",
   "metadata": {},
   "outputs": [],
   "source": [
    "import networkx as nx\n",
    "import time\n",
    "start_time = time.time()"
   ]
  },
  {
   "cell_type": "code",
   "execution_count": 74,
   "id": "fdc89f58",
   "metadata": {},
   "outputs": [],
   "source": [
    "def complete_graph(G):\n",
    "    is_complete = True\n",
    "    for u in G.nodes():\n",
    "        for v in G.nodes():\n",
    "            if u != v and not G.has_edge(u, v):\n",
    "                is_complete = False\n",
    "                break\n",
    "    return is_complete"
   ]
  },
  {
   "cell_type": "code",
   "execution_count": 75,
   "id": "b09d3b49",
   "metadata": {},
   "outputs": [],
   "source": [
    "def hole_graph(G):\n",
    "    if not nx.is_connected(G):\n",
    "        return False\n",
    "    cycles = list(nx.cycle_basis(G))\n",
    "    if len(cycles) == 1 and set(G.nodes()) == set(cycles[0]):\n",
    "        return True\n",
    "    return False"
   ]
  },
  {
   "cell_type": "code",
   "execution_count": 76,
   "id": "eb44e86b",
   "metadata": {},
   "outputs": [],
   "source": [
    "def isolated_examine(G, clique_nodes):\n",
    "    new_graph = G.copy()\n",
    "    edges_to_remove = [(u, v) for u, v in new_graph.edges() if u in clique_nodes and v in clique_nodes]\n",
    "    new_graph.remove_edges_from(edges_to_remove)\n",
    "    isolated_nodes = [node for node in clique_nodes if len(new_graph[node]) == 0]\n",
    "    return isolated_nodes"
   ]
  },
  {
   "cell_type": "code",
   "execution_count": 77,
   "id": "154f07e7",
   "metadata": {},
   "outputs": [],
   "source": [
    "def remove_clique_all(G, clique_nodes):\n",
    "    new_graph = G.copy()\n",
    "    edges_to_remove = [(u, v) for u, v in new_graph.edges() if u in clique_nodes or v in clique_nodes]\n",
    "    new_graph.remove_edges_from(edges_to_remove)\n",
    "    new_graph.remove_nodes_from(clique_nodes)\n",
    "    return new_graph"
   ]
  },
  {
   "cell_type": "code",
   "execution_count": 78,
   "id": "0a8ea9ae",
   "metadata": {},
   "outputs": [],
   "source": [
    "def remove_clique(G, clique_nodes):\n",
    "    new_graph = G.copy()\n",
    "    edges_to_remove = [(u, v) for u, v in new_graph.edges() if u in clique_nodes and v in clique_nodes]\n",
    "    new_graph.remove_edges_from(edges_to_remove)\n",
    "    isolated_nodes = [node for node in clique_nodes if len(new_graph[node]) == 0]\n",
    "    new_graph.remove_nodes_from(isolated_nodes)\n",
    "    return new_graph"
   ]
  },
  {
   "cell_type": "code",
   "execution_count": 79,
   "id": "3a80d06b",
   "metadata": {},
   "outputs": [],
   "source": [
    "def graph_connected(G):\n",
    "    return nx.is_connected(G)"
   ]
  },
  {
   "cell_type": "code",
   "execution_count": 80,
   "id": "e8d10ac4",
   "metadata": {},
   "outputs": [],
   "source": [
    "def clique_cutset(G):\n",
    "    all_cliques = list(nx.find_cliques(G))\n",
    "    clique_cutset_num = 0\n",
    "    isolated_num = 0\n",
    "    sub_graph = G.copy()\n",
    "    print(\"Isolated Clique-Cutset Nodes:\")\n",
    "    for clique_nodes in all_cliques:\n",
    "        temp_graph = remove_clique(G, clique_nodes)\n",
    "        if graph_connected(temp_graph)is False:\n",
    "            sub_graph = remove_clique_all(sub_graph,clique_nodes)\n",
    "            sub_isolated = isolated_examine(G, clique_nodes)\n",
    "            clique_cutset_num += 1\n",
    "            if len(sub_isolated) != 0:\n",
    "                isolated_num += 1\n",
    "                print(sub_isolated)\n",
    "    if clique_cutset_num == 0:\n",
    "        return False, None, None\n",
    "    else:\n",
    "        return True, sub_graph, isolated_num"
   ]
  },
  {
   "cell_type": "code",
   "execution_count": 81,
   "id": "ba6b0721",
   "metadata": {},
   "outputs": [
    {
     "name": "stdout",
     "output_type": "stream",
     "text": [
      "Isolated Clique-Cutset Nodes:\n",
      "[4, 5]\n"
     ]
    }
   ],
   "source": [
    "G = nx.Graph()\n",
    "G.add_edges_from([(1,2),(2,3),(2,4),(2,5),(3,4),(3,5),(4,5),(3,6),(6,7),(6,8),(6,9),(6,10),(7,8),(7,9),(7,10),(8,9),(8,10),(9,10)])\n",
    "temp_situ,temp_graph,isolated_num = clique_cutset(G)"
   ]
  },
  {
   "cell_type": "code",
   "execution_count": 82,
   "id": "47ed2b0c",
   "metadata": {},
   "outputs": [],
   "source": [
    "def greedy_stable_set(graph):\n",
    "    stable_set = set()\n",
    "    for node in graph.nodes():\n",
    "        if all(node not in stable_set and not graph.has_edge(node, neighbor) for neighbor in stable_set):\n",
    "            stable_set.add(node)\n",
    "    return stable_set"
   ]
  },
  {
   "cell_type": "code",
   "execution_count": 83,
   "id": "79ad9466",
   "metadata": {},
   "outputs": [],
   "source": [
    "def subgraph_leaf(graph, isolated_num):\n",
    "    if complete_graph(graph) and len(graph.nodes()) != 1:\n",
    "        print(\"Isolated Complete Graph(>=2) Nodes:\")\n",
    "        print(graph.nodes())\n",
    "        isolated_num += 1\n",
    "    elif hole_graph(graph):\n",
    "        print(\"Isolated Hole Graph Nodes:\")\n",
    "        print(greedy_stable_set(graph))\n",
    "        isolated_num += len(greedy_stable_set(graph))\n",
    "    elif complete_graph(graph) and len(graph.nodes()) == 1:\n",
    "        print(\"Leaf Nodes:\")\n",
    "        print(graph.nodes())\n",
    "        isolated_num += 1\n",
    "    else:\n",
    "        print(\"Other Subgraph Nodes:\")\n",
    "        print(greedy_stable_set(graph))\n",
    "        isolated_num += len(greedy_stable_set(graph))\n",
    "    return isolated_num       "
   ]
  },
  {
   "cell_type": "code",
   "execution_count": 84,
   "id": "240860c0",
   "metadata": {},
   "outputs": [
    {
     "name": "stdout",
     "output_type": "stream",
     "text": [
      "Leaf Nodes:\n",
      "[1]\n",
      "Isolated Complete Graph(>=2) Nodes:\n",
      "[7, 8, 9, 10]\n",
      "Isolated Clique-Cutset Nodes: [1, 7, 8, 9, 10]\n",
      "Size of the maximum independent set: 3\n",
      "Running Time: 168.61462593078613 ms\n"
     ]
    }
   ],
   "source": [
    "connected_parts = list(nx.connected_components(temp_graph))\n",
    "sub_graphs = [temp_graph.subgraph(i) for i in connected_parts]\n",
    "for subgraph in sub_graphs:\n",
    "    isolated_num = subgraph_leaf(subgraph,isolated_num)\n",
    "print(\"Isolated Clique-Cutset Nodes:\",temp_graph.nodes())\n",
    "print(\"Size of the maximum independent set:\", isolated_num)\n",
    "end_time = time.time()\n",
    "run_time = (end_time - start_time) * 1000\n",
    "print(\"Running Time:\", run_time, \"ms\")"
   ]
  },
  {
   "cell_type": "code",
   "execution_count": 72,
   "id": "fb35819c",
   "metadata": {},
   "outputs": [
    {
     "data": {
      "image/png": "[encoded data removed]",
      "text/plain": [
       "<Figure size 432x288 with 1 Axes>"
      ]
     },
     "metadata": {},
     "output_type": "display_data"
    }
   ],
   "source": [
    "nx.draw(G, with_labels=True, font_weight='bold', node_color='white')"
   ]
  }
 ],
 "metadata": {
  "kernelspec": {
   "display_name": "Python 3 (ipykernel)",
   "language": "python",
   "name": "python3"
  },
  "language_info": {
   "codemirror_mode": {
    "name": "ipython",
    "version": 3
   },
   "file_extension": ".py",
   "mimetype": "text/x-python",
   "name": "python",
   "nbconvert_exporter": "python",
   "pygments_lexer": "ipython3",
   "version": "3.9.7"
  }
 },
 "nbformat": 4,
 "nbformat_minor": 5
}
