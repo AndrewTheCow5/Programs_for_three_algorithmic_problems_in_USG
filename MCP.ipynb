{
 "cells": [
  {
   "cell_type": "markdown",
   "id": "d19446df",
   "metadata": {},
   "source": [
    "The Branch-Bound Algorithm:"
   ]
  },
  {
   "cell_type": "code",
   "execution_count": 28,
   "id": "1aaef626",
   "metadata": {},
   "outputs": [
    {
     "name": "stdout",
     "output_type": "stream",
     "text": [
      "Subgraph 1: 6 Vertices\n",
      "[6, 3, 7, 8, 9, 10]\n",
      "[6, 7, 8, 9, 10]\n",
      "Subgraph 2: 5 Vertices\n",
      "[2, 1, 3, 4, 5]\n",
      "[2, 3, 4, 5]\n",
      "Subgraph 3: 4 Vertices\n",
      "[7, 8, 9, 10]\n",
      "[8, 9, 10, 7]\n",
      "Running Time: 0.0031147003173828125 sec\n"
     ]
    }
   ],
   "source": [
    "import time\n",
    "import networkx as nx\n",
    "\n",
    "start_time = time.time()\n",
    "\n",
    "def is_clique(graph, vertices):\n",
    "    for v1 in vertices:\n",
    "        for v2 in vertices:\n",
    "            if v1 != v2 and (v1, v2) not in graph.edges() and (v2, v1) not in graph.edges():\n",
    "                return False\n",
    "    return True\n",
    "\n",
    "# Figure out whether the graph can be split or not\n",
    "def recursive_cut(G): \n",
    "    G_temp = G.copy()\n",
    "    clique_limited = 0\n",
    "    def can_cut(G):\n",
    "        degrees = G.degree()\n",
    "        max_degree_node, max_degree = max(degrees, key=lambda x: x[1])\n",
    "        return max_degree > 0\n",
    "\n",
    "    # Get the most weighted vertex in the pending graph \n",
    "    def get_neighbors_subgraph(G):\n",
    "        degrees = G.degree()\n",
    "        max_degree_node, _ = max(degrees, key=lambda x: x[1])\n",
    "        graph_1,graph_2 = split_graph_by_degree(G,max_degree_node)\n",
    "        return graph_1,graph_2\n",
    "    \n",
    "    # Split the most weighted vertex and its neighbours \n",
    "    def split_graph_by_degree(G, node):\n",
    "        graph_1 = nx.Graph()\n",
    "        graph_2 = nx.Graph()\n",
    "\n",
    "        graph_1.add_node(node)\n",
    "        graph_1.add_nodes_from(G.neighbors(node))\n",
    "        graph_1.add_edges_from(G.edges(node))\n",
    "\n",
    "        graph_2 = G.copy()\n",
    "        graph_2.remove_node(node)\n",
    "        graph_2.remove_edges_from(G.edges(node))\n",
    "\n",
    "        return graph_1, graph_2\n",
    "    subgraphs = []\n",
    "    while can_cut(G):\n",
    "        subgraph1,subgraph2 = get_neighbors_subgraph(G)\n",
    "        if len(subgraph1) == 1:\n",
    "            break\n",
    "\n",
    "        # Subgraph with the most wewighted vertex will be added into the list.\n",
    "        subgraphs.append(subgraph1)        \n",
    "        if is_clique(G_temp, subgraph1.nodes()):\n",
    "            clique_limited = len(subgraph1.nodes())\n",
    "            break\n",
    "\n",
    "        # Remaining parts of graph will go on pruning.\n",
    "        G = subgraph2\n",
    "    return subgraphs, clique_limited\n",
    "\n",
    "if __name__ == \"__main__\":\n",
    "    G = nx.Graph()\n",
    "    G.add_edges_from([(1,2),(2,3),(2,4),(2,5),(3,4),(3,5),(4,5),(3,6),(6,7),(6,8),(6,9),(6,10),(7,8),(7,9),(7,10),(8,9),(8,10),(9,10)])\n",
    "    subgraphs, clique_max = recursive_cut(G)\n",
    "    V = []\n",
    "\n",
    "    # Traverse all the vertices in the graph\n",
    "    for i, subgraph in enumerate(subgraphs):\n",
    "        print(f\"Subgraph {i + 1}: {len(subgraph)} Vertices\")\n",
    "        print(subgraph.nodes())\n",
    "        V = subgraph.nodes()\n",
    "        subgraph_temp = G.subgraph(subgraph.nodes())\n",
    "        max_clique = nx.find_cliques(subgraph_temp)\n",
    "        largest_clique = max(max_clique, key=len)\n",
    "        print(largest_clique)\n",
    "        \n",
    "end_time = time.time()\n",
    "run_time = end_time - start_time\n",
    "print(\"Running Time:\", run_time, \"sec\")"
   ]
  },
  {
   "cell_type": "markdown",
   "id": "9066e421",
   "metadata": {},
   "source": [
    "The Greedy Algorithm:"
   ]
  },
  {
   "cell_type": "code",
   "execution_count": 43,
   "id": "5fde41cd",
   "metadata": {},
   "outputs": [
    {
     "name": "stdout",
     "output_type": "stream",
     "text": [
      "The Maximum Clique: [1, 2]\n",
      "Running Time: 0.0030040740966796875 sec\n"
     ]
    }
   ],
   "source": [
    "import time\n",
    "import networkx as nx\n",
    "\n",
    "start_t = time.time()\n",
    "\n",
    "def greedy_max_clique(G):\n",
    "    clique = []\n",
    "    for node in G.nodes():\n",
    "        if all(node in G[clique_node] for clique_node in clique):\n",
    "            clique.append(node)\n",
    "    return clique\n",
    "\n",
    "G = nx.Graph()\n",
    "G.add_edges_from([(1,2),(2,3),(2,4),(2,5),(3,4),(3,5),(4,5),(3,6),(6,7),(6,8),(6,9),(6,10),(7,8),(7,9),(7,10),(8,9),(8,10),(9,10)])\n",
    "\n",
    "max_clique = greedy_max_clique(G)\n",
    "\n",
    "print(\"The Maximum Clique:\", max_clique)\n",
    "end_t = time.time()\n",
    "run_time = end_t - start_t\n",
    "print(\"Running Time:\", run_time, \"sec\")"
   ]
  },
  {
   "cell_type": "markdown",
   "id": "818a8162",
   "metadata": {},
   "source": [
    "The program which uses the function in NetworkX:"
   ]
  },
  {
   "cell_type": "code",
   "execution_count": 44,
   "id": "74bbc1ac",
   "metadata": {},
   "outputs": [
    {
     "name": "stdout",
     "output_type": "stream",
     "text": [
      "Num of vertices in the maximum clique: 5\n",
      "Running Time: 0.002791166305541992 sec\n"
     ]
    }
   ],
   "source": [
    "import time\n",
    "import networkx as nx\n",
    "\n",
    "start_x = time.time()\n",
    "\n",
    "G = nx.Graph()\n",
    "G.add_edges_from([(1,2),(2,3),(2,4),(2,5),(3,4),(3,5),(4,5),(3,6),(6,7),(6,8),(6,9),(6,10),(7,8),(7,9),(7,10),(8,9),(8,10),(9,10)])\n",
    "\n",
    "max_clique_size = nx.graph_clique_number(G)\n",
    "\n",
    "print(\"Num of vertices in the maximum clique:\", max_clique_size)\n",
    "end_x = time.time()\n",
    "run_time = end_x - start_x\n",
    "print(\"Running Time:\", run_time, \"sec\")"
   ]
  },
  {
   "cell_type": "markdown",
   "id": "f72c67c4",
   "metadata": {},
   "source": [
    "The Bron-Kerbosch Algorithm:"
   ]
  },
  {
   "cell_type": "code",
   "execution_count": 45,
   "id": "f4847b12",
   "metadata": {},
   "outputs": [
    {
     "name": "stdout",
     "output_type": "stream",
     "text": [
      "The Maximum Clique: [6, 7, 8, 9, 10]\n",
      "Running Time: 0.0010004043579101562 sec\n"
     ]
    }
   ],
   "source": [
    "import networkx as nx\n",
    "import time\n",
    "\n",
    "start_b = time.time()\n",
    "\n",
    "def bron_kerbosch(graph, R, P, X):\n",
    "    if not P and not X:\n",
    "        yield R\n",
    "    for v in list(P):\n",
    "        new_R = R + [v]\n",
    "        new_P = [node for node in P if node in graph.neighbors(v)]\n",
    "        new_X = [node for node in X if node in graph.neighbors(v)]\n",
    "        yield from bron_kerbosch(graph, new_R, new_P, new_X)\n",
    "        P.remove(v)\n",
    "        X.append(v)\n",
    "\n",
    "G = nx.Graph()\n",
    "G.add_edges_from([(1,2),(2,3),(2,4),(2,5),(3,4),(3,5),(4,5),(3,6),(6,7),(6,8),(6,9),(6,10),(7,8),(7,9),(7,10),(8,9),(8,10),(9,10)])\n",
    "\n",
    "R = []\n",
    "P = list(G.nodes())\n",
    "X = []\n",
    "max_cliques = list(bron_kerbosch(G, R, P, X))\n",
    "max_clique = max(max_cliques, key=len)\n",
    "print(\"The Maximum Clique:\", max_clique)\n",
    "end_b = time.time()\n",
    "run_time = end_b - start_b\n",
    "print(\"Running Time:\", run_time, \"sec\")"
   ]
  }
 ],
 "metadata": {
  "kernelspec": {
   "display_name": "Python 3 (ipykernel)",
   "language": "python",
   "name": "python3"
  },
  "language_info": {
   "codemirror_mode": {
    "name": "ipython",
    "version": 3
   },
   "file_extension": ".py",
   "mimetype": "text/x-python",
   "name": "python",
   "nbconvert_exporter": "python",
   "pygments_lexer": "ipython3",
   "version": "3.9.7"
  }
 },
 "nbformat": 4,
 "nbformat_minor": 5
}
